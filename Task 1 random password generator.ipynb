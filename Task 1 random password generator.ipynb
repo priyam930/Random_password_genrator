{
 "cells": [
  {
   "cell_type": "markdown",
   "id": "cc4119d9",
   "metadata": {},
   "source": [
    "# Task1: Create random password generator"
   ]
  },
  {
   "cell_type": "markdown",
   "id": "03916d7d",
   "metadata": {},
   "source": [
    "## import python modules"
   ]
  },
  {
   "cell_type": "code",
   "execution_count": 1,
   "id": "4184940a",
   "metadata": {},
   "outputs": [],
   "source": [
    "import random\n",
    "import string"
   ]
  },
  {
   "cell_type": "markdown",
   "id": "a341052d",
   "metadata": {},
   "source": [
    "## Define the character set of password"
   ]
  },
  {
   "cell_type": "code",
   "execution_count": 2,
   "id": "37855a9a",
   "metadata": {},
   "outputs": [],
   "source": [
    "char= string.ascii_letters+string.digits"
   ]
  },
  {
   "cell_type": "markdown",
   "id": "90bcf8c9",
   "metadata": {},
   "source": [
    "at least one of each type of character"
   ]
  },
  {
   "cell_type": "code",
   "execution_count": 4,
   "id": "5409ffbd",
   "metadata": {},
   "outputs": [],
   "source": [
    "password = (\n",
    "    random.choice(string.ascii_lowercase) +\n",
    "    random.choice(string.ascii_uppercase) +\n",
    "    random.choice(string.digits)   \n",
    ")"
   ]
  },
  {
   "cell_type": "markdown",
   "id": "af2a7186",
   "metadata": {},
   "source": [
    "### Set the desired length(like 6 characters)"
   ]
  },
  {
   "cell_type": "code",
   "execution_count": 5,
   "id": "da280286",
   "metadata": {},
   "outputs": [],
   "source": [
    "length=6"
   ]
  },
  {
   "cell_type": "markdown",
   "id": "3362e675",
   "metadata": {},
   "source": [
    "### Fill the remaining characters randomly"
   ]
  },
  {
   "cell_type": "code",
   "execution_count": 9,
   "id": "9c8b3d9d",
   "metadata": {},
   "outputs": [],
   "source": [
    "password =password+ ''.join(random.choice(char) for _ in range(length - 3))\n",
    "password_list = list(password)"
   ]
  },
  {
   "cell_type": "markdown",
   "id": "5436a5f6",
   "metadata": {},
   "source": [
    "### Shuffle the characters to make the password more random"
   ]
  },
  {
   "cell_type": "code",
   "execution_count": 10,
   "id": "ad5c5afe",
   "metadata": {},
   "outputs": [],
   "source": [
    "random.shuffle(password_list)\n",
    "password = ''.join(password_list)"
   ]
  },
  {
   "cell_type": "markdown",
   "id": "f7aee35d",
   "metadata": {},
   "source": [
    "### print the generate the password"
   ]
  },
  {
   "cell_type": "code",
   "execution_count": 11,
   "id": "91d8c38f",
   "metadata": {},
   "outputs": [
    {
     "name": "stdout",
     "output_type": "stream",
     "text": [
      "The random password is: fYPSG0Tdf\n"
     ]
    }
   ],
   "source": [
    "print(\"The random password is:\",password)"
   ]
  },
  {
   "cell_type": "code",
   "execution_count": null,
   "id": "abe798ed",
   "metadata": {},
   "outputs": [],
   "source": []
  }
 ],
 "metadata": {
  "kernelspec": {
   "display_name": "Python 3 (ipykernel)",
   "language": "python",
   "name": "python3"
  },
  "language_info": {
   "codemirror_mode": {
    "name": "ipython",
    "version": 3
   },
   "file_extension": ".py",
   "mimetype": "text/x-python",
   "name": "python",
   "nbconvert_exporter": "python",
   "pygments_lexer": "ipython3",
   "version": "3.11.4"
  }
 },
 "nbformat": 4,
 "nbformat_minor": 5
}
